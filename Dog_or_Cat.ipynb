{
 "cells": [
  {
   "cell_type": "code",
   "execution_count": 4,
   "id": "c62ffd17",
   "metadata": {},
   "outputs": [],
   "source": [
    "import tensorflow as tf\n",
    "from keras.preprocessing.image import ImageDataGenerator"
   ]
  },
  {
   "cell_type": "code",
   "execution_count": 5,
   "id": "f2dcedc9",
   "metadata": {},
   "outputs": [
    {
     "data": {
      "text/plain": [
       "'2.9.1'"
      ]
     },
     "execution_count": 5,
     "metadata": {},
     "output_type": "execute_result"
    }
   ],
   "source": [
    "tf.__version__"
   ]
  },
  {
   "cell_type": "code",
   "execution_count": 6,
   "id": "86249193",
   "metadata": {},
   "outputs": [
    {
     "name": "stdout",
     "output_type": "stream",
     "text": [
      "Found 8000 images belonging to 2 classes.\n"
     ]
    }
   ],
   "source": [
    "train_data = ImageDataGenerator(\n",
    "                 rescale=1./255,\n",
    "                shear_range=0.2,\n",
    "                zoom_range=0.2,\n",
    "                horizontal_flip=True)\n",
    "training_set = train_data.flow_from_directory(\n",
    "                    r\"C:\\Users\\Harish\\Documents\\MyML\\Section 40 - Convolutional Neural Networks (CNN)\\dataset\\training_set\",\n",
    "                    target_size=(64,64),\n",
    "                    batch_size=32,\n",
    "                    class_mode='binary')"
   ]
  },
  {
   "cell_type": "code",
   "execution_count": 7,
   "id": "436010aa",
   "metadata": {},
   "outputs": [
    {
     "name": "stdout",
     "output_type": "stream",
     "text": [
      "Found 2000 images belonging to 2 classes.\n"
     ]
    }
   ],
   "source": [
    "test_data =ImageDataGenerator(rescale=1./255)\n",
    "test_set = test_data.flow_from_directory(r\"C:\\Users\\Harish\\Documents\\MyML\\Section 40 - Convolutional Neural Networks (CNN)\\dataset\\test_set\",\n",
    "                                        target_size=(64,64),\n",
    "                                        batch_size=32,\n",
    "                                        class_mode='binary')\n"
   ]
  },
  {
   "cell_type": "code",
   "execution_count": 88,
   "id": "bce1dd8d",
   "metadata": {},
   "outputs": [],
   "source": [
    "from tensorflow.keras.layers import Conv2D , BatchNormalization,Dense ,Dropout,MaxPooling2D,Flatten,AveragePooling2D\n",
    "from tensorflow.keras.models import Sequential\n",
    "from tensorflow.keras.callbacks import EarlyStopping\n",
    "from tensorflow.keras import regularizers,activations\n",
    "from tensorflow.keras import models,layers"
   ]
  },
  {
   "cell_type": "code",
   "execution_count": 89,
   "id": "a65f993e",
   "metadata": {},
   "outputs": [],
   "source": [
    "input_shape =(64,64,3)\n",
    "weight_decay = 1e-4\n",
    "model = Sequential()\n",
    "model.add(Conv2D(activation='relu',filters = 32, kernel_size = (3,3), padding='same', input_shape = input_shape, kernel_regularizer=regularizers.l2(weight_decay)))\n",
    "\n",
    "model.add(BatchNormalization())\n",
    "model.add(Conv2D(activation='relu',filters = 32, kernel_size = (3,3), padding='same', kernel_regularizer=regularizers.l2(weight_decay)))\n",
    "\n",
    "model.add(BatchNormalization())\n",
    "model.add(MaxPooling2D(2,2))\n",
    "model.add(Dropout(0.2))\n",
    "\n",
    "model.add(Conv2D(activation='relu',filters = 64, kernel_size = (3,3), padding='same', kernel_regularizer=regularizers.l2(weight_decay)))\n",
    "\n",
    "model.add(BatchNormalization())\n",
    "model.add(Conv2D(activation='relu',filters = 64, kernel_size = (3,3), padding='same', kernel_regularizer=regularizers.l2(weight_decay)))\n",
    "\n",
    "model.add(BatchNormalization())\n",
    "model.add(MaxPooling2D(2,2))\n",
    "model.add(Dropout(0.3))\n",
    "\n",
    "\n",
    "\n",
    "model.add(Flatten())\n",
    "\n",
    "model.add(Dense(units = 1, activation = 'sigmoid'))"
   ]
  },
  {
   "cell_type": "code",
   "execution_count": 90,
   "id": "2f7dec55",
   "metadata": {},
   "outputs": [],
   "source": [
    "model.compile(optimizer= 'adam',loss= 'binary_crossentropy' ,metrics=['accuracy'])"
   ]
  },
  {
   "cell_type": "code",
   "execution_count": 91,
   "id": "e513f6a0",
   "metadata": {},
   "outputs": [
    {
     "name": "stdout",
     "output_type": "stream",
     "text": [
      "Model: \"sequential_9\"\n",
      "_________________________________________________________________\n",
      " Layer (type)                Output Shape              Param #   \n",
      "=================================================================\n",
      " conv2d_34 (Conv2D)          (None, 64, 64, 32)        896       \n",
      "                                                                 \n",
      " batch_normalization_34 (Bat  (None, 64, 64, 32)       128       \n",
      " chNormalization)                                                \n",
      "                                                                 \n",
      " conv2d_35 (Conv2D)          (None, 64, 64, 32)        9248      \n",
      "                                                                 \n",
      " batch_normalization_35 (Bat  (None, 64, 64, 32)       128       \n",
      " chNormalization)                                                \n",
      "                                                                 \n",
      " max_pooling2d_17 (MaxPoolin  (None, 32, 32, 32)       0         \n",
      " g2D)                                                            \n",
      "                                                                 \n",
      " dropout_17 (Dropout)        (None, 32, 32, 32)        0         \n",
      "                                                                 \n",
      " conv2d_36 (Conv2D)          (None, 32, 32, 64)        18496     \n",
      "                                                                 \n",
      " batch_normalization_36 (Bat  (None, 32, 32, 64)       256       \n",
      " chNormalization)                                                \n",
      "                                                                 \n",
      " conv2d_37 (Conv2D)          (None, 32, 32, 64)        36928     \n",
      "                                                                 \n",
      " batch_normalization_37 (Bat  (None, 32, 32, 64)       256       \n",
      " chNormalization)                                                \n",
      "                                                                 \n",
      " max_pooling2d_18 (MaxPoolin  (None, 16, 16, 64)       0         \n",
      " g2D)                                                            \n",
      "                                                                 \n",
      " dropout_18 (Dropout)        (None, 16, 16, 64)        0         \n",
      "                                                                 \n",
      " flatten_8 (Flatten)         (None, 16384)             0         \n",
      "                                                                 \n",
      " dense_7 (Dense)             (None, 1)                 16385     \n",
      "                                                                 \n",
      "=================================================================\n",
      "Total params: 82,721\n",
      "Trainable params: 82,337\n",
      "Non-trainable params: 384\n",
      "_________________________________________________________________\n"
     ]
    }
   ],
   "source": [
    "model.summary()"
   ]
  },
  {
   "cell_type": "code",
   "execution_count": 92,
   "id": "399c882f",
   "metadata": {},
   "outputs": [
    {
     "data": {
      "text/plain": [
       "keras.preprocessing.image.DirectoryIterator"
      ]
     },
     "execution_count": 92,
     "metadata": {},
     "output_type": "execute_result"
    }
   ],
   "source": [
    "type(test_set)"
   ]
  },
  {
   "cell_type": "code",
   "execution_count": 93,
   "id": "a931c974",
   "metadata": {},
   "outputs": [
    {
     "name": "stdout",
     "output_type": "stream",
     "text": [
      "Epoch 1/25\n",
      "250/250 [==============================] - 20s 78ms/step - loss: 1.1151 - accuracy: 0.5975 - val_loss: 1.1355 - val_accuracy: 0.5095\n",
      "Epoch 2/25\n",
      "250/250 [==============================] - 19s 77ms/step - loss: 1.0066 - accuracy: 0.6189 - val_loss: 0.8312 - val_accuracy: 0.6325\n",
      "Epoch 3/25\n",
      "250/250 [==============================] - 20s 78ms/step - loss: 0.8755 - accuracy: 0.6461 - val_loss: 0.7568 - val_accuracy: 0.6705\n",
      "Epoch 4/25\n",
      "250/250 [==============================] - 19s 77ms/step - loss: 0.7755 - accuracy: 0.6735 - val_loss: 1.0147 - val_accuracy: 0.6280\n",
      "Epoch 5/25\n",
      "250/250 [==============================] - 19s 78ms/step - loss: 0.7368 - accuracy: 0.6982 - val_loss: 0.7581 - val_accuracy: 0.7395\n",
      "Epoch 6/25\n",
      "250/250 [==============================] - 19s 77ms/step - loss: 0.6681 - accuracy: 0.7113 - val_loss: 0.6738 - val_accuracy: 0.7285\n",
      "Epoch 7/25\n",
      "250/250 [==============================] - 19s 77ms/step - loss: 0.6482 - accuracy: 0.7269 - val_loss: 0.6369 - val_accuracy: 0.7185\n",
      "Epoch 8/25\n",
      "250/250 [==============================] - 20s 80ms/step - loss: 0.6098 - accuracy: 0.7421 - val_loss: 0.6238 - val_accuracy: 0.7805\n",
      "Epoch 9/25\n",
      "250/250 [==============================] - 19s 78ms/step - loss: 0.5700 - accuracy: 0.7604 - val_loss: 0.5290 - val_accuracy: 0.7895\n",
      "Epoch 10/25\n",
      "250/250 [==============================] - 19s 77ms/step - loss: 0.5586 - accuracy: 0.7634 - val_loss: 0.6198 - val_accuracy: 0.7635\n",
      "Epoch 11/25\n",
      "250/250 [==============================] - 19s 77ms/step - loss: 0.5224 - accuracy: 0.7738 - val_loss: 0.5433 - val_accuracy: 0.7620\n",
      "Epoch 12/25\n",
      "250/250 [==============================] - 19s 77ms/step - loss: 0.5057 - accuracy: 0.7853 - val_loss: 0.5008 - val_accuracy: 0.7975\n",
      "Epoch 13/25\n",
      "250/250 [==============================] - 19s 76ms/step - loss: 0.4790 - accuracy: 0.7959 - val_loss: 0.4995 - val_accuracy: 0.7985\n",
      "Epoch 14/25\n",
      "250/250 [==============================] - 19s 77ms/step - loss: 0.4645 - accuracy: 0.8026 - val_loss: 0.4883 - val_accuracy: 0.8035\n",
      "Epoch 15/25\n",
      "250/250 [==============================] - 19s 77ms/step - loss: 0.4437 - accuracy: 0.8089 - val_loss: 0.5152 - val_accuracy: 0.7970\n",
      "Epoch 16/25\n",
      "250/250 [==============================] - 19s 78ms/step - loss: 0.4267 - accuracy: 0.8231 - val_loss: 0.4753 - val_accuracy: 0.8095\n",
      "Epoch 17/25\n",
      "250/250 [==============================] - 19s 77ms/step - loss: 0.4250 - accuracy: 0.8231 - val_loss: 0.6331 - val_accuracy: 0.7480\n",
      "Epoch 18/25\n",
      "250/250 [==============================] - 20s 79ms/step - loss: 0.4158 - accuracy: 0.8261 - val_loss: 0.5465 - val_accuracy: 0.7890\n",
      "Epoch 19/25\n",
      "250/250 [==============================] - 19s 78ms/step - loss: 0.3973 - accuracy: 0.8275 - val_loss: 0.5367 - val_accuracy: 0.7855\n",
      "Epoch 20/25\n",
      "250/250 [==============================] - 19s 77ms/step - loss: 0.3861 - accuracy: 0.8359 - val_loss: 0.5240 - val_accuracy: 0.7955\n",
      "Epoch 21/25\n",
      "250/250 [==============================] - 19s 78ms/step - loss: 0.3800 - accuracy: 0.8453 - val_loss: 0.4278 - val_accuracy: 0.8270\n",
      "Epoch 22/25\n",
      "250/250 [==============================] - 20s 81ms/step - loss: 0.3770 - accuracy: 0.8476 - val_loss: 0.4709 - val_accuracy: 0.8215\n",
      "Epoch 23/25\n",
      "250/250 [==============================] - 19s 77ms/step - loss: 0.3578 - accuracy: 0.8509 - val_loss: 0.3777 - val_accuracy: 0.8580\n",
      "Epoch 24/25\n",
      "250/250 [==============================] - 19s 77ms/step - loss: 0.3496 - accuracy: 0.8570 - val_loss: 0.4171 - val_accuracy: 0.8435\n",
      "Epoch 25/25\n",
      "250/250 [==============================] - 20s 79ms/step - loss: 0.3488 - accuracy: 0.8595 - val_loss: 0.5580 - val_accuracy: 0.7855\n"
     ]
    }
   ],
   "source": [
    "history = model.fit(training_set ,validation_data=test_set, epochs =30)"
   ]
  },
  {
   "cell_type": "code",
   "execution_count": 94,
   "id": "0e2016e9",
   "metadata": {},
   "outputs": [
    {
     "name": "stdout",
     "output_type": "stream",
     "text": [
      "WARNING:tensorflow:5 out of the last 5 calls to <function Model.make_predict_function.<locals>.predict_function at 0x00000206E87F8DC0> triggered tf.function retracing. Tracing is expensive and the excessive number of tracings could be due to (1) creating @tf.function repeatedly in a loop, (2) passing tensors with different shapes, (3) passing Python objects instead of tensors. For (1), please define your @tf.function outside of the loop. For (2), @tf.function has reduce_retracing=True option that can avoid unnecessary retracing. For (3), please refer to https://www.tensorflow.org/guide/function#controlling_retracing and https://www.tensorflow.org/api_docs/python/tf/function for  more details.\n",
      "1/1 [==============================] - 0s 63ms/step\n",
      "dog\n"
     ]
    }
   ],
   "source": [
    "import numpy as np\n",
    "from keras.preprocessing import image\n",
    "from tensorflow.keras.utils import load_img,img_to_array \n",
    "test_image = load_img(r\"C:\\Users\\Harish\\Documents\\MyML\\Section 40 - Convolutional Neural Networks (CNN)\\dataset\\single_prediction\\egypt_kitty_social.webp\", target_size = (64, 64))\n",
    "test_image = img_to_array(test_image)\n",
    "test_image = np.expand_dims(test_image, axis = 0)\n",
    "result = model.predict(test_image)\n",
    "training_set.class_indices\n",
    "if result[0][0] == 1:\n",
    "  prediction = 'dog'\n",
    "else:\n",
    "  prediction = 'cat'\n",
    "print(prediction)"
   ]
  },
  {
   "cell_type": "code",
   "execution_count": 95,
   "id": "06a2fae1",
   "metadata": {},
   "outputs": [
    {
     "data": {
      "image/png": "[encoded data removed]",
      "text/plain": [
       "<Figure size 640x480 with 1 Axes>"
      ]
     },
     "metadata": {},
     "output_type": "display_data"
    }
   ],
   "source": [
    "import matplotlib.pyplot as plt\n",
    "plt.plot(history.history['accuracy'],label ='accuracy')\n",
    "plt.plot(history.history['val_accuracy'] ,label ='val_accuracy')\n",
    "plt.legend()\n",
    "plt.show()"
   ]
  },
  {
   "cell_type": "code",
   "execution_count": 96,
   "id": "daadfdf0",
   "metadata": {},
   "outputs": [
    {
     "data": {
      "image/png": "[encoded data removed]",
      "text/plain": [
       "<Figure size 640x480 with 1 Axes>"
      ]
     },
     "metadata": {},
     "output_type": "display_data"
    }
   ],
   "source": [
    "plt.plot(history.history['loss'],label ='loss')\n",
    "plt.plot(history.history['val_loss'] ,label ='val_loss')\n",
    "plt.legend()\n",
    "plt.show()"
   ]
  },
  {
   "cell_type": "code",
   "execution_count": 34,
   "id": "9614d919",
   "metadata": {},
   "outputs": [],
   "source": [
    "model.save('cnn_model.h5')"
   ]
  },
  {
   "cell_type": "code",
   "execution_count": 8,
   "id": "d20559a7",
   "metadata": {},
   "outputs": [],
   "source": [
    "from keras.models import load_model\n",
    "loaded = load_model('cnn_model.h5')"
   ]
  },
  {
   "cell_type": "code",
   "execution_count": 9,
   "id": "cd82f42c",
   "metadata": {},
   "outputs": [
    {
     "name": "stdout",
     "output_type": "stream",
     "text": [
      "63/63 [==============================] - 17s 253ms/step - loss: 0.3804 - accuracy: 0.8605\n"
     ]
    },
    {
     "data": {
      "text/plain": [
       "[0.38037845492362976, 0.8604999780654907]"
      ]
     },
     "execution_count": 9,
     "metadata": {},
     "output_type": "execute_result"
    }
   ],
   "source": [
    "loaded.evaluate(test_set,batch_size=64 ,verbose=1)"
   ]
  },
  {
   "cell_type": "code",
   "execution_count": 19,
   "id": "3e5b9c39",
   "metadata": {},
   "outputs": [
    {
     "name": "stdout",
     "output_type": "stream",
     "text": [
      "1/1 [==============================] - 0s 50ms/step\n",
      "dog\n"
     ]
    }
   ],
   "source": [
    "import numpy as np\n",
    "from keras.preprocessing import image\n",
    "from tensorflow.keras.utils import load_img,img_to_array \n",
    "test_image = load_img(r\"C:\\Users\\Harish\\Documents\\MyML\\Section 40 - Convolutional Neural Networks (CNN)\\dataset\\single_prediction\\images (1).jfif\", target_size = (64, 64))\n",
    "test_image = img_to_array(test_image)\n",
    "test_image = np.expand_dims(test_image, axis = 0)\n",
    "result = loaded.predict(test_image)\n",
    "training_set.class_indices\n",
    "if result[0][0] == 1:\n",
    "  prediction = 'dog'\n",
    "else:\n",
    "  prediction = 'cat'\n",
    "print(prediction)"
   ]
  },
  {
   "cell_type": "code",
   "execution_count": null,
   "id": "7c5dbb83",
   "metadata": {},
   "outputs": [],
   "source": []
  }
 ],
 "metadata": {
  "kernelspec": {
   "display_name": "Python 3 (ipykernel)",
   "language": "python",
   "name": "python3"
  },
  "language_info": {
   "codemirror_mode": {
    "name": "ipython",
    "version": 3
   },
   "file_extension": ".py",
   "mimetype": "text/x-python",
   "name": "python",
   "nbconvert_exporter": "python",
   "pygments_lexer": "ipython3",
   "version": "3.9.12"
  }
 },
 "nbformat": 4,
 "nbformat_minor": 5
}
